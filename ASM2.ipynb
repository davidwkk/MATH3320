{
 "cells": [
  {
   "cell_type": "code",
   "execution_count": 1,
   "id": "85391939",
   "metadata": {},
   "outputs": [],
   "source": [
    "import numpy as np\n",
    "import matplotlib.pyplot as plt\n",
    "# import pandas as pd\n"
   ]
  },
  {
   "cell_type": "code",
   "execution_count": null,
   "id": "061f821c",
   "metadata": {},
   "outputs": [
    {
     "name": "stdout",
     "output_type": "stream",
     "text": [
      "X:  [[0. 2.]\n",
      " [1. 0.]\n",
      " [3. 4.]]\n",
      "X.T @ X:  [[10. 12.]\n",
      " [12. 20.]]\n",
      "Eigenvalues:  [ 2. 28.]\n",
      "Eigenvectors:  [[-0.83205029 -0.5547002 ]\n",
      " [ 0.5547002  -0.83205029]]\n",
      "Manual Eigenvectors:  [[ 0.83205029  0.5547002 ]\n",
      " [-0.5547002   0.83205029]]\n",
      "U:  [[-0.31448545  0.78446454 -0.53452248]\n",
      " [-0.10482848 -0.58834841 -0.80178373]\n",
      " [-0.94345635 -0.19611614  0.26726124]]\n",
      "S:  [5.29150262 1.41421356]\n",
      "V:  [[-0.5547002  -0.83205029]\n",
      " [-0.83205029  0.5547002 ]]\n"
     ]
    }
   ],
   "source": [
    "# Q1(a)\n",
    "\n",
    "X = np.array([[0, 2], [1, 0], [3, 4]], dtype=float)\n",
    "\n",
    "print(\"X: \", X)\n",
    "\n",
    "print(\"X.T @ X: \", X.T @ X)\n",
    "\n",
    "# Eigendecomposition of X.T @ X\n",
    "eigenvalues, eigenvectors = np.linalg.eig(X.T @ X)\n",
    "\n",
    "print(\"Eigenvalues: \", eigenvalues)\n",
    "print(\"Eigenvectors: \", eigenvectors)\n",
    "\n",
    "# SVD of X:\n",
    "U, S, V = np.linalg.svd(X)\n",
    "\n",
    "print(\"U: \", U)\n",
    "print(\"S: \", S)\n",
    "print(\"V: \", V)\n"
   ]
  },
  {
   "cell_type": "code",
   "execution_count": null,
   "id": "2df58b12",
   "metadata": {},
   "outputs": [
    {
     "name": "stdout",
     "output_type": "stream",
     "text": [
      "x1:  [4. 0. 8.]\n",
      "x1 norm:  8.94427190999916\n",
      "normalized x1:  [0.4472136  0.         0.89442719]\n",
      "x2:  [ 8.94427191  2.68328157 25.93838854]\n",
      "x2 norm:  27.568097504180447\n",
      "normalized x2:  [0.32444284 0.09733285 0.94088424]\n",
      "Approximate Eigenvalue for A:  27.995789473684212\n",
      "[ 54.4  18.  162.8]\n"
     ]
    }
   ],
   "source": [
    "# Q1(b)\n",
    "\n",
    "# Power Method for A = X @ X.T\n",
    "A = X @ X.T\n",
    "\n",
    "x0 = np.array([1, 0, 0])\n",
    "\n",
    "x1 = A @ x0\n",
    "print(\"x1: \", x1)\n",
    "print(\"x1 norm: \", np.linalg.norm(x1))\n",
    "x1 = x1 / np.linalg.norm(x1)\n",
    "print(\"normalized x1: \", x1)\n",
    "\n",
    "x2 = A @ x1\n",
    "print(\"x2: \", x2)\n",
    "print(\"x2 norm: \", np.linalg.norm(x2))\n",
    "x2 = x2 / np.linalg.norm(x2)\n",
    "print(\"normalized x2: \", x2)\n",
    "\n",
    "# Approximate Eigenvalue for A\n",
    "\n",
    "lambda1 = x2.T @ A @ x2 / (x2.T @ x2)\n",
    "print(\"Approximate Eigenvalue for A: \", lambda1)\n"
   ]
  },
  {
   "cell_type": "code",
   "execution_count": null,
   "id": "98bb64df",
   "metadata": {},
   "outputs": [],
   "source": []
  },
  {
   "cell_type": "code",
   "execution_count": null,
   "id": "32275982",
   "metadata": {},
   "outputs": [],
   "source": []
  },
  {
   "cell_type": "code",
   "execution_count": null,
   "id": "0414d538",
   "metadata": {},
   "outputs": [],
   "source": []
  },
  {
   "cell_type": "code",
   "execution_count": null,
   "id": "b525b547",
   "metadata": {},
   "outputs": [],
   "source": []
  }
 ],
 "metadata": {
  "kernelspec": {
   "display_name": ".venv",
   "language": "python",
   "name": "python3"
  },
  "language_info": {
   "codemirror_mode": {
    "name": "ipython",
    "version": 3
   },
   "file_extension": ".py",
   "mimetype": "text/x-python",
   "name": "python",
   "nbconvert_exporter": "python",
   "pygments_lexer": "ipython3",
   "version": "3.13.5"
  }
 },
 "nbformat": 4,
 "nbformat_minor": 5
}
